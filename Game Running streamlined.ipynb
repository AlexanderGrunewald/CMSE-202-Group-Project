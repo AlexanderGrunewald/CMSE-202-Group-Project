{
 "cells": [
  {
   "cell_type": "markdown",
   "id": "82e17754",
   "metadata": {},
   "source": [
    "# Imports"
   ]
  },
  {
   "cell_type": "code",
   "execution_count": null,
   "id": "dfc582e6",
   "metadata": {},
   "outputs": [],
   "source": [
    "import blackjackSim as bjs\n",
    "import ipywidgets as widgets\n",
    "from IPython.display import display, clear_output\n",
    "import matplotlib.pyplot as plt\n",
    "import numpy as np\n",
    "import pandas as pd\n",
    "import uuid\n",
    "import warnings\n",
    "import random\n",
    "import seaborn as sns\n",
    "import tensorflow as tf\n",
    "from sklearn.metrics import roc_curve, auc\n",
    "from keras.models import Sequential\n",
    "from keras.layers import Dense, LSTM, Flatten, Dropout"
   ]
  },
  {
   "cell_type": "markdown",
   "id": "fa96c736",
   "metadata": {},
   "source": [
    "# Training the neural network\n",
    "* Data is generated in [this section](#datagen), but it's already in a file which is imported here"
   ]
  },
  {
   "cell_type": "code",
   "execution_count": null,
   "id": "6670c3bc",
   "metadata": {},
   "outputs": [],
   "source": [
    "#retrieve full data\n",
    "full_data = pd.read_csv(\"blackjack_data.csv\")"
   ]
  },
  {
   "cell_type": "code",
   "execution_count": null,
   "id": "a57234c8",
   "metadata": {},
   "outputs": [],
   "source": [
    "#Loops through a dataframe full of games, groups by the game number, then randomly selects approximately (frac) of the\n",
    "#data and returns.\n",
    "# return_complement parameter allows the other part of the data to be returned as well, sort of like train_test_split\n",
    "def sample_groupby_games(df, frac, return_complement = False):\n",
    "    groupby = df.groupby(\"game number\")\n",
    "    main_df = pd.DataFrame()\n",
    "    comp_df = pd.DataFrame() #Everything from original df not in main_df\n",
    "    for i in groupby:\n",
    "        if random.random() < frac:\n",
    "            a = i[1]\n",
    "            main_df = pd.concat((main_df, a))\n",
    "        else:\n",
    "            if return_complement == True:\n",
    "                a = i[1]\n",
    "                comp_df = pd.concat((comp_df, a))\n",
    "    if return_complement == False:\n",
    "        return main_df\n",
    "    else:\n",
    "        return main_df, comp_df"
   ]
  },
  {
   "cell_type": "code",
   "execution_count": null,
   "id": "9037f201",
   "metadata": {},
   "outputs": [],
   "source": [
    "#Essentially train_test_split that keeps whole games intact in the data - each sample is a round, and some games\n",
    "#have multiple rounds\n",
    "train_data, test_data = sample_groupby_games(full_data, 0.75, return_complement=True)\n",
    "\n",
    "train_features = train_data[['points', 'aces', 'dealer card', 'round']]\n",
    "test_features = test_data[['points', 'aces', 'dealer card', 'round']]\n",
    "\n",
    "train_labels = train_data[\"label\"]\n",
    "test_labels = test_data[\"label\"]"
   ]
  },
  {
   "cell_type": "code",
   "execution_count": null,
   "id": "97d157a8",
   "metadata": {
    "scrolled": true
   },
   "outputs": [],
   "source": [
    "# Creating a neural network, then\n",
    "model = tf.keras.models.Sequential()\n",
    "model.add(Dense(16))\n",
    "model.add(Dense(128))\n",
    "model.add(Dense(32))\n",
    "model.add(Dense(8))\n",
    "model.add(Dense(1, activation='sigmoid'))\n",
    "model.compile(loss='binary_crossentropy', optimizer='sgd')\n",
    "model.fit(train_features, train_labels, train_data['label'], epochs=200, batch_size=256, verbose=1)"
   ]
  },
  {
   "cell_type": "markdown",
   "id": "507821f4",
   "metadata": {},
   "source": [
    "# Interactive blackjack"
   ]
  },
  {
   "cell_type": "code",
   "execution_count": null,
   "id": "688f41e9",
   "metadata": {
    "scrolled": true
   },
   "outputs": [],
   "source": [
    "#Creating the interactive game buttons\n",
    "\n",
    "hitbutton = widgets.Button(description = \"Hit\",\n",
    "                          disabled = False, \n",
    "                          button_style = '',\n",
    "                          tooltip = \"Hit\",\n",
    "                          icon = \"hand-fist\")\n",
    "\n",
    "def hbc(b):\n",
    "    clear_output()\n",
    "    display(hitbutton)\n",
    "    display(staybutton)\n",
    "    display(predictbutton)\n",
    "    game.hit()\n",
    "    \n",
    "hitbutton.on_click(hbc) #runs hbc(hitbutton) when you click the hit button\n",
    "\n",
    "staybutton = widgets.Button(description = \"Stand\",\n",
    "                          disabled = False, \n",
    "                          button_style = '',\n",
    "                          tooltip = \"Stand\",\n",
    "                          icon = \"hand\")\n",
    "\n",
    "def sbc(b):\n",
    "    clear_output()\n",
    "    display(hitbutton)\n",
    "    display(staybutton)\n",
    "    display(predictbutton)\n",
    "    game.stay()\n",
    "    \n",
    "staybutton.on_click(sbc) #runs sbc(staybutton) when you click the stay button\n",
    "\n",
    "predictbutton = widgets.Button(description = \"Predict\",\n",
    "                          disabled = False, \n",
    "                          button_style = '',\n",
    "                          tooltip = \"What should I do?\",\n",
    "                          icon = \"hand\")\n",
    "\n",
    "def pbc(b):\n",
    "    feat = game.get_features() # Retrieves the features the neural network is trained on from the current game state\n",
    "    pred = model.predict(feat)[0,0]\n",
    "    if pred > 0.5: # pred is the value between 0 (stay) and 1 (hit) assigned, e.g. how good of an idea it is to hit\n",
    "        print(\"You should hit\")\n",
    "    else:\n",
    "        print(\"You should stay\")\n",
    "        \n",
    "predictbutton.on_click(pbc)"
   ]
  },
  {
   "cell_type": "code",
   "execution_count": null,
   "id": "f9dffd09",
   "metadata": {
    "scrolled": false
   },
   "outputs": [],
   "source": [
    "# Start a game\n",
    "# Rerun this cell to play again\n",
    "\n",
    "game = bjs.Blackjack(draw = True)\n",
    "\n",
    "display(hitbutton)\n",
    "display(staybutton)\n",
    "display(predictbutton)"
   ]
  },
  {
   "cell_type": "markdown",
   "id": "1f729feb",
   "metadata": {},
   "source": [
    "# Data generation\n",
    "<a id='datagen'></a>"
   ]
  },
  {
   "cell_type": "code",
   "execution_count": null,
   "id": "e43ea23e",
   "metadata": {},
   "outputs": [],
   "source": [
    "hit_threshold = 0.7 #if random.random() is above this number, hit\n",
    "n_wins = 0 #number of wins\n",
    "iterations = 100000 #number of games to simulate\n",
    "#Simulation output\n",
    "win = [] # Win(1), Loss(0)\n",
    "aces = [] # Number of aces in player's hand\n",
    "points = [] # Number of points the player's hand is worth\n",
    "dealer_card = [] # Value/rank of dealer's face-up card\n",
    "\n",
    "hit = [] # Whether the player did hit or stay\n",
    "round_ = [] # Which round of the game it is, where the first round of the game is 1\n",
    "game_number = [] # Number assigned to that game\n",
    "\n",
    "current_game = 1 # Number assigned to that game\n",
    "instant_gameovers = 0 # How many times the game is won just from the dealing of cards, e.g. player or dealer receives 21\n",
    "for i in range(iterations):\n",
    "    game = bjs.Blackjack() #initialize game\n",
    "    current_round = 0\n",
    "    if game.is_active == False: # Only activated in case of an instant game over\n",
    "        instant_gameovers += 1\n",
    "        current_game += 1\n",
    "        continue\n",
    "    else:\n",
    "        while game.is_active == True: # While the game still hasn't ended:\n",
    "            \n",
    "            #Add features to lists\n",
    "            points.append(game.point())\n",
    "            dealer_card.append(game.dealer[0])\n",
    "            aces.append(game.aces())\n",
    "            round_.append(current_round)\n",
    "            \n",
    "            if game.point() < 11: # Always hit if you have 10 points or less, it's impossible to lose\n",
    "                game.hit()\n",
    "                hit.append(1)\n",
    "                current_round += 1\n",
    "            elif random.random() > hit_threshold: # Hit if above threshold\n",
    "                game.hit()\n",
    "                hit.append(1)\n",
    "                current_round += 1\n",
    "            else: # Stay if below threshold\n",
    "                game.stay()\n",
    "                hit.append(0)\n",
    "                current_round += 1\n",
    "\n",
    "            \n",
    "\n",
    "        for j in range(current_round): #assigning win and game labels to all turns\n",
    "            game_number.append(current_game)\n",
    "            win.append(game.player_win)\n",
    "\n",
    "        if game.player_win == True:\n",
    "            n_wins += 1\n",
    "\n",
    "        current_game += 1"
   ]
  },
  {
   "cell_type": "code",
   "execution_count": null,
   "id": "08b04854",
   "metadata": {},
   "outputs": [],
   "source": [
    "label = [] #list of labels. If 1, then either a hit resulted in a win, or a stay resulted in a loss. If 0, then either a\n",
    "           #stay resulted in a win, or a hit resulted in a loss. This is a big assumption, and how accurate it is will\n",
    "           #determine how well the model can play blackjack\n",
    "for i in range(len(win)):\n",
    "    if win[i] == 0:\n",
    "        if hit[i] == 0:\n",
    "            label.append(1) #should've hit\n",
    "        elif hit[i] == 1:\n",
    "            label.append(0) #should've stayed\n",
    "    elif win[i] == 1:\n",
    "        label.append(hit[i]) #did the right thing, so just add that"
   ]
  },
  {
   "cell_type": "code",
   "execution_count": null,
   "id": "c9e58cb1",
   "metadata": {},
   "outputs": [],
   "source": [
    "data = pd.DataFrame()\n",
    "data[\"label\"] = label\n",
    "data[\"win\"] = win\n",
    "data[\"points\"] = points\n",
    "data[\"aces\"] = aces\n",
    "\n",
    "\n",
    "data[\"dealer card\"] = np.array(dealer_card)[:,1]\n",
    "data[\"dealer card\"] = data[\"dealer card\"].replace({\"Jack\":10, \"Queen\":10, \"King\":10, \"Ace\":11}) #Change names to numbers\n",
    "data[\"dealer card\"] = pd.to_numeric(data[\"dealer card\"]) #Change series dtype from string to a numeric \n",
    "data[\"round\"] = round_\n",
    "data[\"game number\"] = game_number"
   ]
  },
  {
   "cell_type": "code",
   "execution_count": null,
   "id": "89443276",
   "metadata": {},
   "outputs": [],
   "source": [
    "win_data = data[ data[\"win\"] == True]\n",
    "big_loss_data = data[ data[\"win\"] == False] #You lose more often randomly but we want equal size of win and loss\n",
    "\n",
    "test_rounds = len(win_data) \n",
    "loss_proportion = test_rounds/len(big_loss_data) # this portion test size for loss data"
   ]
  },
  {
   "cell_type": "code",
   "execution_count": null,
   "id": "b940d326",
   "metadata": {},
   "outputs": [],
   "source": [
    "loss_data = sample_groupby_games(big_loss_data, loss_proportion)\n",
    "\n",
    "#Generate full data\n",
    "full_data = pd.concat((win_data, loss_data))"
   ]
  },
  {
   "cell_type": "code",
   "execution_count": null,
   "id": "ad1cff30",
   "metadata": {},
   "outputs": [],
   "source": [
    "# Save full data\n",
    "# full_data.to_csv(\"blackjack_data.csv\")"
   ]
  },
  {
   "cell_type": "markdown",
   "id": "531a9fc2",
   "metadata": {},
   "source": [
    "# Plotting"
   ]
  },
  {
   "cell_type": "code",
   "execution_count": null,
   "id": "f0bde08b",
   "metadata": {},
   "outputs": [],
   "source": [
    "#Generate heatmap for likelihood of hitting given player, dealer cards\n",
    "#Aces and round number are assumed to be\n",
    "\n",
    "model_output = np.zeros((19,10)) #Output shape\n",
    "for i in range(2,12): #through dealer card values\n",
    "    display_data = pd.DataFrame() # Dataframe for a given dealer card value and all possible player hand values\n",
    "\n",
    "    display_data[\"points\"] = range(2,21) #adding possible player hand values\n",
    "    display_data[\"aces\"] = np.ones(19)\n",
    "    display_data[\"round\"] = np.zeros(19)\n",
    "    display_data[\"dealer card\"] = np.array([i]*19) #all same dealer\n",
    "    \n",
    "    pred_ary = model.predict(display_data)\n",
    "    \n",
    "    for j in range(len(pred_ary)):\n",
    "        model_output[j, i-2] = pred_ary[j][0]\n"
   ]
  },
  {
   "cell_type": "code",
   "execution_count": null,
   "id": "3cf46563",
   "metadata": {
    "scrolled": false
   },
   "outputs": [],
   "source": [
    "plt.figure(figsize = (10,6))\n",
    "sns.heatmap(model_output, xticklabels = range(2,12), yticklabels = range(2,21))\n",
    "plt.title(\"Likelihood of hitting\")\n",
    "plt.ylabel(\"Player points\")\n",
    "plt.xlabel(\"Points of dealer's face-up card\")"
   ]
  },
  {
   "cell_type": "code",
   "execution_count": null,
   "id": "1c742f02",
   "metadata": {},
   "outputs": [],
   "source": [
    "#plot probability of win vs. dealer card\n",
    "sns.barplot(x = 'dealer card', y = 'win', data = full_data)\n",
    "#add a title\n",
    "plt.title('Win Prob vs. Dealer Card')\n"
   ]
  },
  {
   "cell_type": "code",
   "execution_count": null,
   "id": "b4277415",
   "metadata": {},
   "outputs": [],
   "source": [
    "#barplot of win vs. points\n",
    "sns.barplot(x = 'points', y = 'win', data = full_data)\n",
    "#add a title\n",
    "plt.title('Win Prob vs. Points')\n",
    "#change the theme\n",
    "plt.style.use('seaborn-darkgrid')"
   ]
  },
  {
   "cell_type": "code",
   "execution_count": null,
   "id": "399e570d",
   "metadata": {
    "scrolled": true
   },
   "outputs": [],
   "source": [
    "#plot ROCCurve\n",
    "\n",
    "fpr, tpr, thresholds = roc_curve(full_data['label'], model.predict(full_data[['points', 'aces', 'dealer card', 'round']]))\n",
    "roc_auc = auc(fpr, tpr)\n",
    "\n",
    "fig, ax = plt.subplots(figsize=(8,8))\n",
    "plt.plot(fpr, tpr, label='ROC curve (area = %0.2f)' % roc_auc)\n",
    "plt.plot([0, 1], [0, 1], 'k--')\n",
    "plt.xlim([0.0, 1.0])\n",
    "plt.ylim([0.0, 1.05])\n",
    "plt.xlabel('False Positive Rate')\n",
    "plt.ylabel('True Positive Rate')\n",
    "plt.title('Receiver operating characteristic')\n",
    "plt.legend(loc=\"lower right\")\n",
    "plt.show()"
   ]
  }
 ],
 "metadata": {
  "kernelspec": {
   "display_name": "Python 3",
   "language": "python",
   "name": "python3"
  },
  "language_info": {
   "codemirror_mode": {
    "name": "ipython",
    "version": 3
   },
   "file_extension": ".py",
   "mimetype": "text/x-python",
   "name": "python",
   "nbconvert_exporter": "python",
   "pygments_lexer": "ipython3",
   "version": "3.8.8"
  }
 },
 "nbformat": 4,
 "nbformat_minor": 5
}
